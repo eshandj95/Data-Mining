{
 "cells": [
  {
   "cell_type": "markdown",
   "metadata": {},
   "source": [
    "# PA 1: Exploratory Analysis over 120 years of Olympic History"
   ]
  },
  {
   "cell_type": "markdown",
   "metadata": {},
   "source": [
    "## Student Details\n",
    "\n",
    "Student Name and ID: \n",
    "\n",
    "Notes:\n",
    "When submitting, fill your name and ID in this cell. Note that this is a markdown cell!\n",
    "Do not make any changes in the dataset file and do not rename the 'athlete_events.csv'.\n",
    "Rename your submission file to <b> 'yourLastName_Last4digitsofyourID_PA1.ipynb' </b>.\n",
    "Do not to forget to cite any external sources used by you.\n",
    "[2.5 points]\n"
   ]
  },
  {
   "cell_type": "markdown",
   "metadata": {},
   "source": [
    "## Assignment Details\n",
    "\n",
    "In this assignment, you will conduct a guided exploration over the Olympic History dataset. You will learn and use some of the most common exploration/aggregation/descriptive operations. This should also help you learn most of the key functionalities in Pandas.\n",
    "\n",
    "You will also learn how to use visualization libraries to identify patterns in data that will help in your further data analysis. You will also explore most popular chart types and how to use different libraries and styles to make your visualizations more attractive."
   ]
  },
  {
   "cell_type": "markdown",
   "metadata": {},
   "source": [
    "## Dataset Details\n",
    "\n",
    "In this assignment, you will work on 120 years of Olympic History dataset. Specifically, you will work on athlete_events.csv file from kaggle repository (https://www.kaggle.com/heesoo37/120-years-of-olympic-history-athletes-and-results). The file athlete_events.csv contains 271.116 rows and 15 columns. This dataset begins with the 1896 Athens, Greece Olympics, and runs up to the 2016 Rio, Brazil Olympic Games. Each row corresponds to an athlete competing in an individual Olympic event. The columns of the data-set are:\n",
    "\n",
    "- ID - Unique number for each athlete\n",
    "- Name - Athlete's name\n",
    "- Sex - M or F\n",
    "- Age - Integer\n",
    "- Height - In centimeters\n",
    "- Weight - In kilograms\n",
    "- Team - Team name\n",
    "- NOC - National Olympic Committee 3-letter code\n",
    "- Games - Year and season\n",
    "- Year - Integer\n",
    "- Season - Summer or Winter\n",
    "- City - Host city\n",
    "- Sport - Sport\n",
    "- Event - Event\n",
    "- Medal - Gold, Silver, Bronze, or NA"
   ]
  },
  {
   "cell_type": "markdown",
   "metadata": {},
   "source": [
    "## Required Python Packages\n",
    "You will use the packages imported below in this assignment. \n",
    "Do NOT import any new packages without confirming with the TA. "
   ]
  },
  {
   "cell_type": "code",
   "execution_count": null,
   "metadata": {},
   "outputs": [],
   "source": [
    "# special IPython command to prepare the notebook for matplotlib\n",
    "%matplotlib inline \n",
    "\n",
    "#Array processing\n",
    "import numpy as np\n",
    "#Data analysis, wrangling and common exploratory operations\n",
    "import pandas as pd\n",
    "from pandas import Series, DataFrame\n",
    "\n",
    "#For visualization. Matplotlib for basic viz and seaborn for more stylish figures\n",
    "%matplotlib inline\n",
    "import os\n",
    "import numpy as np\n",
    "import pandas as pd\n",
    "from pandas import Series, DataFrame\n",
    "import matplotlib.pyplot as plt\n",
    "from matplotlib.pyplot import hist\n",
    "import seaborn as sns"
   ]
  },
  {
   "cell_type": "markdown",
   "metadata": {},
   "source": [
    "# Reading Dataset\n",
    "The Python code below reads the Olympic History dataset into a Pandas data frame with the name df_Olympic. \n",
    "For this code to work, the file 'athlete_events.csv' must be in the same folder as this file."
   ]
  },
  {
   "cell_type": "code",
   "execution_count": null,
   "metadata": {
    "scrolled": true
   },
   "outputs": [],
   "source": [
    "#read the csv file into a Pandas data frame\n",
    "df_olympics = pd.read_csv('athlete_events.csv', encoding='latin1')\n",
    "\n",
    "#return the first 5 rows of the dataset\n",
    "df_olympics.head()"
   ]
  },
  {
   "cell_type": "markdown",
   "metadata": {},
   "source": [
    "# Task 1: Statistical Exploratory Data Analysis\n",
    "Let us start with getting know the dataset. Your first task will be to get some basic information by using Pandas features."
   ]
  },
  {
   "cell_type": "code",
   "execution_count": null,
   "metadata": {
    "scrolled": true
   },
   "outputs": [],
   "source": [
    "#For each task below, look for a Pandas function to do the task.\n",
    "#Replace None in each task with your code.\n",
    "\n",
    "# 2.5 points\n",
    "#Task 1-a: Print the details of the df_olympics data frame (information such as number of rows,columns, name of columns, etc)\n",
    "print (\">>Task 1-a: Details of df_olympics data frame are: \\n\" ) \n",
    "print(pd.DataFrame.info(df_olympics))\n",
    "# 2.5 points\n",
    "#Task 1-b: Find the number of rows and columns in the df_olympics data frame.\n",
    "num_rows=df_olympics.shape[0]\n",
    "num_cols=df_olympics.shape[1]\n",
    "print (\"\\n\\n>>Task 1-b: Number of rows:%s and number of columns:%s\" % (num_rows, num_cols)) \n",
    "\n",
    "# 2.5 points\n",
    "#Task 1-c: Print the descriptive detail (min, max, quartiles etc) for 'Age' column of  the df_olympics\n",
    "print (\"\\n\\n>>Task 1-c: Descriptive details of age column are\\n\",df_olympics['Age'].describe()\n",
    "\n",
    "# 10 points\n",
    "#Task 1-d: Print the number of years from the first game until the last in our data-set, and the number of  unique values for 'games'.\n",
    "result11 = df_olympics['Year'].max() - df_olympics['Year'].min()\n",
    "print (\"\\n\\n >>Task 1-d: In our dataset we have historical data for %s years, and for %s games. \" % (result11, df_olympics['Games'].nunique()))\n"
   ]
  },
  {
   "cell_type": "markdown",
   "metadata": {},
   "source": [
    "# Task 2: Aggregation & Filtering & Rank\n",
    "In this task, we will perform some very high level aggregation and filtering operations. \n",
    "Then, we will apply ranking on the results for some tasks. \n",
    "Pandas has a convenient and powerful syntax for aggregation, filtering, and ranking. \n",
    "DO NOT write a for loop. Pandas has built-in functions for all tasks. "
   ]
  },
  {
   "cell_type": "code",
   "execution_count": null,
   "metadata": {},
   "outputs": [],
   "source": [
    "# 8 points\n",
    "#Task 2-a: Find out the total number of female and male athletes that participated on the 2004 Olympics Games\n",
    "num_female_2004 = None\n",
    "num_male_2004   = None\n",
    "print (\">>Task 2-a: At the Olympics of 2004, there were participating %s female and %s male athletes\" \n",
    "       % (num_female_2004, num_male_2004))\n",
    "\n",
    "# 8 points\n",
    "#Task 2-b: Find out the total number of awarded metals for the year 1896, and the year 2016.\n",
    "#Utilize the property of cell's missing values\n",
    "num_medals_1986 = None\n",
    "num_medals_2016 = None\n",
    "\n",
    "print (\"\\n\\n>>Task 2-b: The total number of metals awarded in 1896 was %s, while in 2016 was %s\" \n",
    "       % (num_medals_1986, num_medals_2016))\n",
    "\n",
    "# 14 points\n",
    "#Task 2-c: Find out the top 10 athletes with the most gold medals for all years.\n",
    "top10_gold_athletes=None\n",
    "print (\"\\n\\n>>Task 2-c: The top 10 athletes for all years are: \\n%s\" % (top10_gold_athletes))\n",
    "\n"
   ]
  },
  {
   "cell_type": "code",
   "execution_count": null,
   "metadata": {},
   "outputs": [],
   "source": []
  },
  {
   "cell_type": "markdown",
   "metadata": {},
   "source": [
    "# Task 3: Visualization\n",
    "In this task, you will perform a number of visualization tasks to get some intuition about the data. Visualization is a key component of exploration. You can choose to use either Matplotlib or Seaborn for plotting. The default figures generated from Matplotlib might look a bit ugly. So you might want to try Seaborn to get better figures. Seaborn has a variety of styles. Feel free to experiment with them and choose the one you like. We have earmarked 10 points for the aesthetics of your visualizations."
   ]
  },
  {
   "cell_type": "code",
   "execution_count": null,
   "metadata": {},
   "outputs": [],
   "source": [
    "sns.set_style('whitegrid')\n",
    "sns.set(font_scale = 1.3)\n",
    "\n",
    "# 15 points\n",
    "# Task 3-a: Draw a histogram for total number of athletes participated in all Summer Olympic Games. \n",
    "# Think of a way to nicely visualize the all years of Summer Olympics! \n",
    "#########################begin code for Task 3-a\n",
    "\n",
    "#########################end code for Task 3-a\n",
    "\n",
    "\n",
    "# 15 points\n",
    "# Task 3-b: Draw a \"vertical\" bar chart that lists the top-10 talest althlets for all years.\n",
    "# Remember to make the bar chart into a vertical bar chart\n",
    "#########################begin code for Task 3-b \n",
    "\n",
    "#########################end code for Task 3-b"
   ]
  },
  {
   "cell_type": "markdown",
   "metadata": {},
   "source": [
    "# Task 4: \n",
    "Find out an 'interesting' information from your Olympic History dataset. Create a visualization for it and explain in a few lines your reasoning. \n",
    "\n",
    "This task is worth 20 points. Your result will be judged based on the uniqueness and quality of your work (having a meaningful result and an aesthetic visualization). "
   ]
  },
  {
   "cell_type": "code",
   "execution_count": null,
   "metadata": {},
   "outputs": [],
   "source": [
    "#########################begin code for Task 4\n",
    "\n",
    "#########################end code for Task 4"
   ]
  },
  {
   "cell_type": "code",
   "execution_count": null,
   "metadata": {},
   "outputs": [],
   "source": []
  },
  {
   "cell_type": "code",
   "execution_count": null,
   "metadata": {},
   "outputs": [],
   "source": []
  },
  {
   "cell_type": "code",
   "execution_count": null,
   "metadata": {},
   "outputs": [],
   "source": []
  },
  {
   "cell_type": "code",
   "execution_count": null,
   "metadata": {},
   "outputs": [],
   "source": []
  },
  {
   "cell_type": "code",
   "execution_count": null,
   "metadata": {},
   "outputs": [],
   "source": []
  }
 ],
 "metadata": {
  "kernelspec": {
   "display_name": "Python 3",
   "language": "python",
   "name": "python3"
  },
  "language_info": {
   "codemirror_mode": {
    "name": "ipython",
    "version": 3
   },
   "file_extension": ".py",
   "mimetype": "text/x-python",
   "name": "python",
   "nbconvert_exporter": "python",
   "pygments_lexer": "ipython3",
   "version": "3.6.4"
  }
 },
 "nbformat": 4,
 "nbformat_minor": 1
}
