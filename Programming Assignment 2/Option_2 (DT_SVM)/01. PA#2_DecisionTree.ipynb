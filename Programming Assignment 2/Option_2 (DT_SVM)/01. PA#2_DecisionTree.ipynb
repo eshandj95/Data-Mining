{
 "cells": [
  {
   "cell_type": "markdown",
   "metadata": {},
   "source": [
    "# PA 2: Classification - Decision Tree"
   ]
  },
  {
   "cell_type": "markdown",
   "metadata": {},
   "source": [
    "## Student Details\n",
    "Student Name and ID:___\n",
    "\n",
    "\n",
    "Notes: When submitting, fill your name and ID in this cell. [1 point]\n",
    "\n",
    "\n",
    "Do not to forget to cite any external sources used by you. "
   ]
  },
  {
   "cell_type": "markdown",
   "metadata": {},
   "source": [
    "## Programming Assignment Submission Instructions\n",
    "\n",
    "\n",
    "Step 1: Rename this submission file as 'yourLastName_Last4digitsofyourID_DT.ipynb' [1 point]\n",
    "\n",
    "Step 2: Place this file inside the folder 'PA#2_Classification_yourLastName_Option2' [1 point]\n"
   ]
  },
  {
   "cell_type": "markdown",
   "metadata": {},
   "source": [
    "## Programming Assignment Details\n",
    "\n",
    "This is an individual assignment. \n",
    "\n",
    "For this assignment use Jupyter notebook, Panda, and scikit.\n",
    "\n",
    "- Load wine dataset from sklearn datasets.  [2 points]\n",
    "- Create a dataframe and print the first and last five records of your dataset.  [2 points]\n",
    "- Print the class names.  [2 points]\n",
    "- Split your dataset 70% for training, and 30% for testing the classifier.  [2 points]\n",
    "- Use gini and entropy to measure the quality of a split.  [5 points]\n",
    "- Use comments to explain your code and variable names. [2 points]\n",
    "- Calculate and print the confusion matrix, and the classification Report (includes: precision, recall, f1-score, and support).  [5 points]\n",
    "- Print the decision tree visualization.  [5 points]"
   ]
  },
  {
   "cell_type": "markdown",
   "metadata": {},
   "source": [
    "## Report\n",
    "\n",
    "For each classification task you need to submit a report (Microsoft Word, or PDF) that you have to:\n",
    "- describe the Decision Tree method,  [5 points]\n",
    "- the dataset and if you have done any pre-process, and [5 points]\n",
    "- your code. [2 points]\n",
    "- Visualization of the decision tree for gini and entropy.[8 points]\n",
    "- Interpret your results, and do not forget to compare gini and entropy [10 points]\n",
    "\n",
    "Do not to forget to cite your sources!\n",
    "\n",
    "\n",
    "Step 3: Save your report file as 'yourLastName_Last4digitsofyourID_DT.doc' [1 point]\n",
    "\n",
    "Step 4: Place this file inside the folder 'PA#2_Classification_yourLastName_Option2' [1 point]"
   ]
  },
  {
   "cell_type": "markdown",
   "metadata": {},
   "source": [
    "# - - - - - - - - - - - - - - - Solution - - - - - - - - - - - - - - - - - - "
   ]
  }
 ],
 "metadata": {
  "kernelspec": {
   "display_name": "Python 3",
   "language": "python",
   "name": "python3"
  },
  "language_info": {
   "codemirror_mode": {
    "name": "ipython",
    "version": 3
   },
   "file_extension": ".py",
   "mimetype": "text/x-python",
   "name": "python",
   "nbconvert_exporter": "python",
   "pygments_lexer": "ipython3",
   "version": "3.6.4"
  }
 },
 "nbformat": 4,
 "nbformat_minor": 2
}
