{
 "cells": [
  {
   "cell_type": "markdown",
   "metadata": {},
   "source": [
    "# PA 2: Classification - Support Vector Machine"
   ]
  },
  {
   "cell_type": "markdown",
   "metadata": {},
   "source": [
    "## Student Details\n",
    "Student Name and ID:___\n",
    "\n",
    "Notes: When submitting, fill your name and ID in this cell.[1 point]\n",
    "\n",
    "Do not to forget to cite any external sources used by you."
   ]
  },
  {
   "cell_type": "markdown",
   "metadata": {},
   "source": [
    "## Programming Assignment Submission Instructions\n",
    "\n",
    "Step 5: Rename this submission file as 'yourLastName_Last4digitsofyourID_SVM.ipynb'. [1 point]\n",
    "\n",
    "Step 6: Place this file inside the folder 'PA#2_Classification_yourLastName_Option2' [1 point]"
   ]
  },
  {
   "cell_type": "markdown",
   "metadata": {},
   "source": [
    "## Programming Assignment Details\n",
    "\n",
    "Do not forget, this is an individual assignment!\n",
    "\n",
    "For this assignment use Jupyter notebook, Panda, and scikit.\n",
    "\n",
    "- Load wine dataset from sklearn datasets. [0 points]\n",
    "- Split your dataset 70% for training, and 30% for testing the classifier. [0 points]\n",
    "- Select only 2 attributes for training and testing your model. [2 points]\n",
    "- Use One-vs-One method. [1 points]\n",
    "- Try with a linear, and non-linear kernel polynomial=3 and Gaussian RBF. [6 points]\n",
    "- Use comments to explain your code and variable names.[2 points]\n",
    "- Calculate and print the confusion matrix, and the classification Report (includes: precision, recall, f1-score, and support) for linear and non-linear kernels. [6 points]\n",
    "- Plot the classifier in a 2D projection for linear and non-linear kernels. [3 points]"
   ]
  },
  {
   "cell_type": "markdown",
   "metadata": {},
   "source": [
    "## Report\n",
    "\n",
    "For each classification task you need to submit a report (Microsoft Word, or PDF) that you have to:\n",
    "- describe SVM method, [3 points]\n",
    "- What is a support vector? [3 points]\n",
    "- What is the difference between One-vs-One and One-vs-All method? [3 points]\n",
    "- explain what was your criteria for selecting the two attributes, [4 points]\n",
    "- Visualize SVM in a 2D projection for linear, and non-linear kernels. [6 points]\n",
    "- Interprete and compare the results. [6 points]\n",
    "\n",
    "Do not to forget to cite your sources!\n",
    "\n",
    "\n",
    "Step 7: Save your report file as 'yourLastName_Last4digitsofyourID_SVM.doc' [1 point]\n",
    "\n",
    "Step 8: Place this file inside the folder 'PA#2_Classification_yourLastName_Option2' [1 point]\n",
    "\n",
    "Step 9: Submit your zipped folder (PA#2_Classification_yourLastName_Option2.zip) on Blackboard"
   ]
  },
  {
   "cell_type": "markdown",
   "metadata": {},
   "source": [
    "# - - - - - - - - - - - - - - - Solution - - - - - - - - - - - - - - - - - - "
   ]
  }
 ],
 "metadata": {
  "kernelspec": {
   "display_name": "Python 3",
   "language": "python",
   "name": "python3"
  },
  "language_info": {
   "codemirror_mode": {
    "name": "ipython",
    "version": 3
   },
   "file_extension": ".py",
   "mimetype": "text/x-python",
   "name": "python",
   "nbconvert_exporter": "python",
   "pygments_lexer": "ipython3",
   "version": "3.6.4"
  }
 },
 "nbformat": 4,
 "nbformat_minor": 1
}
