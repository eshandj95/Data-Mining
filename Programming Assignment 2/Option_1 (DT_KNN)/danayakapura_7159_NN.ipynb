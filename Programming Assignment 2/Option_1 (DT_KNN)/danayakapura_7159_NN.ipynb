{
 "cells": [
  {
   "cell_type": "markdown",
   "metadata": {},
   "source": [
    "# PA 2: Classification - Nearest Neighbors"
   ]
  },
  {
   "cell_type": "markdown",
   "metadata": {},
   "source": [
    "## Student Details\n",
    "Student Name and ID:_Eshan Danayakapura Jagadeesh Id: 1001667159__\n",
    "\n",
    "\n",
    "Notes: When submitting, fill your name and ID in this cell. [1 point]\n",
    "\n",
    "Do not to forget to cite any external sources used by you."
   ]
  },
  {
   "cell_type": "markdown",
   "metadata": {},
   "source": [
    "## Programming Assignment Submission Instructions\n",
    "\n",
    "\n",
    "Step 5: Rename this submission file as 'yourLastName_Last4digitsofyourID_NN.ipynb' [1 point]\n",
    "\n",
    "Step 6: Place this file inside the folder 'PA#2_Classification_yourLastName_Option1' [1 point]"
   ]
  },
  {
   "cell_type": "markdown",
   "metadata": {},
   "source": [
    "## Programming Assignment Details\n",
    "\n",
    "Do not forget, this is an individual assignment!\n",
    "\n",
    "For this assignment use Jupyter notebook, Panda, and scikit.\n",
    "\n",
    "- Load wine dataset from sklearn datasets. [0 points]\n",
    "- Split your dataset 70% for training, and 30% for testing the classifier. [0 points]\n",
    "- Select only 2 attributes for training and testing your model. [2 points]\n",
    "- Use Euclidean distance. [1 points]\n",
    "- Test the classifier with three diferent numbers for neighbors and record the results. [3 points]\n",
    "- Use comments to explain your code and variable names.[2 points]\n",
    "- Calculate and print the confusion matrix, and the classification Report (includes:precision, recall, f1-score, and support) for all three different numbers.[6 points]\n",
    "- Plot the classifier in a 2D projection for all three different numbers.[6 points]"
   ]
  },
  {
   "cell_type": "markdown",
   "metadata": {},
   "source": [
    "## Report\n",
    "\n",
    "For each classification task you need to submit a report (Microsoft Word, or PDF) that you have to:\n",
    "- describe the Nearest Neighbors method, [3 points]\n",
    "- explain what was your criteria for selecting the two attributes, [4 points]\n",
    "- visualizations of the classifier in a 2D projection, for all three different nuber of neighbors,[4 points]\n",
    "- Interprete and compare the results.[4 points]\n",
    "\n",
    "Do not to forget to cite your sources!\n",
    "\n",
    "\n",
    "Step 7: Save your report file as 'yourLastName_Last4digitsofyourID_NN.doc' [1 point]\n",
    "\n",
    "Step 8: Place this file inside the folder 'PA#2_Classification_yourLastName_Option1' [1 point]\n",
    "\n",
    "Step 9: Submit your zipped folder (PA#2_Classification_yourLastName_Option1.zip) on Blackboard"
   ]
  },
  {
   "cell_type": "markdown",
   "metadata": {},
   "source": [
    "# - - - - - - - - - - - - - - - Solution - - - - - - - - - - - - - - - - - - "
   ]
  },
  {
   "cell_type": "code",
   "execution_count": null,
   "metadata": {},
   "outputs": [],
   "source": [
    "#Import scikit-learn dataset library\n",
    "from sklearn import datasets\n",
    "import pandas as pd\n",
    "import numpy as np\n",
    "import matplotlib.pyplot as plt\n",
    "from sklearn.datasets import load_wine\n",
    "\n",
    "\n",
    "#Load dataset\n",
    "wine = datasets.load_wine()\n",
    "wine1 = load_wine()\n",
    "col_names = list(data1)\n",
    "url = 'https://archive.ics.uci.edu/ml/machine-learning-databases/wine/wine.data'\n",
    "winee = pd.read_csv(url,header = None, names = col_names)\n",
    "data1 = pd.DataFrame(data= np.c_[wine['data'], wine['target']],\n",
    "                     columns= wine['feature_names'] + ['target'])\n",
    "data1.head()\n",
    "data1[['nonflavanoid_phenols', 'hue']]"
   ]
  },
  {
   "cell_type": "code",
   "execution_count": null,
   "metadata": {},
   "outputs": [],
   "source": [
    "# Import train_test_split function\n",
    "from sklearn.model_selection import train_test_split\n",
    "\n",
    "# Split dataset into training set and test set\n",
    "X_train, X_test, y_train, y_test = train_test_split(wine.data, wine.target, test_size=0.3) # 70% training and 30% test"
   ]
  },
  {
   "cell_type": "code",
   "execution_count": null,
   "metadata": {},
   "outputs": [],
   "source": [
    "#Import knearest neighbors Classifier model\n",
    "from sklearn.neighbors import KNeighborsClassifier\n",
    "\n",
    "#Create KNN Classifier\n",
    "knn = KNeighborsClassifier(n_neighbors=5)\n",
    "\n",
    "#Train the model using the training sets\n",
    "knn.fit(X_train, y_train)\n",
    "\n",
    "#Predict the response for test dataset\n",
    "y_pred = knn.predict(X_test)"
   ]
  },
  {
   "cell_type": "code",
   "execution_count": null,
   "metadata": {},
   "outputs": [],
   "source": [
    "#Import scikit-learn metrics module for accuracy calculation\n",
    "from sklearn import metrics\n",
    "# Model Accuracy, how often is the classifier correct?\n",
    "print(\"Accuracy for 5 neighbors:\",metrics.accuracy_score(y_test, y_pred))"
   ]
  },
  {
   "cell_type": "code",
   "execution_count": null,
   "metadata": {},
   "outputs": [],
   "source": [
    "#Computing Training and Test Accuracy for 3 values of neighbors which are 1,2 and 3\n",
    "train_feature, test_feature, train_class, test_class = train_test_split(\n",
    "    wine.data, wine.target, stratify=wine.target, random_state=0)\n",
    "training_accuracy = []\n",
    "test_accuracy = []\n",
    "\n",
    "neighbors_settings = range(1, 4)\n",
    "\n",
    "for n_neighbors in neighbors_settings:\n",
    "    # build the model\n",
    "    knn = KNeighborsClassifier(n_neighbors=n_neighbors)\n",
    "    knn.fit(train_feature, train_class)\n",
    "    # record training set accuracy\n",
    "    training_accuracy.append(knn.score(train_feature, train_class))\n",
    "    # record generalization accuracy\n",
    "    test_accuracy.append(knn.score(test_feature, test_class))\n",
    "print(\"Training accuracy\")\n",
    "print (str(training_accuracy)[1:-1])\n",
    "print(\"test accuracy\")\n",
    "print (str(test_accuracy)[1:-1])\n",
    "    \n",
    "plt.plot(neighbors_settings, training_accuracy, label=\"training accuracy\")\n",
    "plt.plot(neighbors_settings, test_accuracy, label=\"test accuracy\")\n",
    "plt.ylabel(\"Accuracy\")\n",
    "plt.xlabel(\"n_neighbors\")\n",
    "plt.legend()\n",
    "plt.show()"
   ]
  },
  {
   "cell_type": "code",
   "execution_count": null,
   "metadata": {},
   "outputs": [],
   "source": [
    "\n",
    "col_names = ['nonflavanoid_phenols','hue']\n",
    "\n",
    "X = data1[col_names]\n",
    "y = data1.target\n",
    "from sklearn.tree import DecisionTreeClassifier\n",
    "from sklearn.model_selection import train_test_split\n",
    "X_train, X_test, y_train, y_test = train_test_split(X, y,test_size=0.3, random_state=0)\n",
    "from sklearn.linear_model import LogisticRegression\n",
    "from sklearn import metrics\n",
    "logreg = LogisticRegression()\n",
    "logreg.fit(X_train, y_train)\n",
    "y_pred_class = logreg.predict(X_test)\n",
    "\n",
    "print(metrics.confusion_matrix(y_test, y_pred_class))"
   ]
  },
  {
   "cell_type": "code",
   "execution_count": null,
   "metadata": {},
   "outputs": [],
   "source": [
    "confusion = metrics.confusion_matrix(y_test, y_pred_class)\n",
    "a = confusion[0,0]\n",
    "b = confusion[0,1]\n",
    "c = confusion[0,2]\n",
    "d = confusion[1,0]\n",
    "e = confusion[1,1]\n",
    "f = confusion[1,2]\n",
    "g = confusion[2,0]\n",
    "h = confusion[2,1]\n",
    "i = confusion[2,2]\n",
    "precision1 = (a)/(a+b+c)\n",
    "precision2 = (e)/(d+e+f)\n",
    "precision3 = (i)/(g+h+i)\n",
    "recal1 = (a)/(a+d+g)\n",
    "recal2 = (e)/(b+e+h)\n",
    "recal3 = (i)/(c+f+i)\n",
    "f11 = (2*precision1*recal1)/(precision1+recal1)\n",
    "f12 = (2*precision2*recal2)/(precision2+recal2)\n",
    "f13 = (2*precision3*recal3)/(precision3+recal3)\n",
    "print(precision1)\n",
    "print(precision2)\n",
    "print(precision3)\n",
    "print(recal1)\n",
    "print(recal2)\n",
    "print(recal3)\n",
    "print(f11)\n",
    "print(f12)\n",
    "print(f13)"
   ]
  },
  {
   "cell_type": "code",
   "execution_count": null,
   "metadata": {},
   "outputs": [],
   "source": []
  }
 ],
 "metadata": {
  "kernelspec": {
   "display_name": "Python 3",
   "language": "python",
   "name": "python3"
  },
  "language_info": {
   "codemirror_mode": {
    "name": "ipython",
    "version": 3
   },
   "file_extension": ".py",
   "mimetype": "text/x-python",
   "name": "python",
   "nbconvert_exporter": "python",
   "pygments_lexer": "ipython3",
   "version": "3.6.4"
  }
 },
 "nbformat": 4,
 "nbformat_minor": 1
}
