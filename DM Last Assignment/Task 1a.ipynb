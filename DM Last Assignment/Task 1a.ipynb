{
 "cells": [
  {
   "cell_type": "code",
   "execution_count": 3,
   "metadata": {},
   "outputs": [],
   "source": [
    "import pandas as pd\n",
    "\n",
    "from pylab import *\n",
    "\n",
    "import matplotlib.pyplot as plt\n",
    "import sklearn\n",
    "\n",
    "from sklearn.cluster import KMeans\n",
    "from mpl_toolkits.mplot3d import Axes3D\n",
    "from sklearn.preprocessing import scale\n",
    "\n",
    "import sklearn.metrics as sm\n",
    "from sklearn import datasets\n",
    "from sklearn.metrics import confusion_matrix,classification_report\n"
   ]
  },
  {
   "cell_type": "code",
   "execution_count": 4,
   "metadata": {},
   "outputs": [
    {
     "name": "stdout",
     "output_type": "stream",
     "text": [
      "          Age   Gender  Education  Country  Ethnicity   Nscore   Escore  \\\n",
      "0     0.49788  0.48246   -0.05921  0.96082    0.12600  0.31287 -0.57545   \n",
      "1    -0.07854 -0.48246    1.98437  0.96082   -0.31685 -0.67825  1.93886   \n",
      "2     0.49788 -0.48246   -0.05921  0.96082   -0.31685 -0.46725  0.80523   \n",
      "3    -0.95197  0.48246    1.16365  0.96082   -0.31685 -0.14882 -0.80615   \n",
      "4     0.49788  0.48246    1.98437  0.96082   -0.31685  0.73545 -1.63340   \n",
      "5     2.59171  0.48246   -1.22751  0.24923   -0.31685 -0.67825 -0.30033   \n",
      "6     1.09449 -0.48246    1.16365 -0.57009   -0.31685 -0.46725 -1.09207   \n",
      "7     0.49788 -0.48246   -1.73790  0.96082   -0.31685 -1.32828  1.93886   \n",
      "8     0.49788  0.48246   -0.05921  0.24923   -0.31685  0.62967  2.57309   \n",
      "9     1.82213 -0.48246    1.16365  0.96082   -0.31685 -0.24649  0.00332   \n",
      "10   -0.07854  0.48246    0.45468  0.96082   -0.31685 -1.05308  0.80523   \n",
      "11    1.09449 -0.48246   -0.61113 -0.28519   -0.31685 -1.32828  0.00332   \n",
      "12    1.82213  0.48246    0.45468  0.96082   -0.31685  2.28554  0.16767   \n",
      "13    1.82213  0.48246   -0.05921  0.24923   -0.31685 -0.79151  0.80523   \n",
      "14    1.82213  0.48246   -0.05921  0.96082   -0.31685 -0.92104  1.45421   \n",
      "15    1.82213 -0.48246    0.45468  0.96082   -0.31685 -2.05048 -1.50796   \n",
      "16    0.49788  0.48246   -0.61113  0.96082   -0.31685 -1.55078 -0.80615   \n",
      "17    1.09449 -0.48246   -1.73790  0.96082   -0.31685  0.52135 -1.23177   \n",
      "18    1.82213 -0.48246    0.45468 -0.09765   -0.31685  1.37297 -0.15487   \n",
      "19    0.49788 -0.48246   -0.05921  0.96082   -0.31685 -0.34799 -1.76250   \n",
      "20    1.09449 -0.48246   -0.05921  0.96082   -0.31685 -0.79151  0.80523   \n",
      "21    2.59171 -0.48246   -2.43591  0.96082   -0.31685 -1.19430  0.47617   \n",
      "22    1.09449 -0.48246    0.45468  0.96082   -0.31685  0.41667 -0.94779   \n",
      "23    1.09449 -0.48246   -1.73790  0.96082   -0.31685  1.60383 -3.27393   \n",
      "24    1.82213 -0.48246    0.45468  0.96082   -0.31685 -0.14882  0.63779   \n",
      "25    1.09449 -0.48246   -0.61113  0.96082   -0.31685 -0.79151 -0.43999   \n",
      "26    1.82213  0.48246   -1.22751  0.24923   -0.31685 -0.05188 -1.63340   \n",
      "27    0.49788 -0.48246    0.45468  0.96082   -0.31685  0.52135 -1.23177   \n",
      "28    0.49788  0.48246    1.16365  0.96082   -0.31685  0.04257 -1.50796   \n",
      "29    1.09449 -0.48246    1.98437  0.96082   -0.31685 -1.32828  1.74091   \n",
      "...       ...      ...        ...      ...        ...      ...      ...   \n",
      "1855  0.49788 -0.48246   -0.05921 -0.28519   -0.31685 -1.19430  1.11406   \n",
      "1856 -0.95197 -0.48246   -0.61113 -0.57009   -0.31685  0.31287 -0.57545   \n",
      "1857 -0.95197 -0.48246   -0.61113 -0.57009   -0.31685  1.72012  0.32197   \n",
      "1858 -0.95197 -0.48246   -1.22751 -0.57009   -0.31685 -0.24649  0.32197   \n",
      "1859  0.49788 -0.48246   -0.61113 -0.28519   -0.31685 -0.34799  0.00332   \n",
      "1860  1.82213  0.48246    0.45468  0.24923   -0.31685 -1.69163 -1.09207   \n",
      "1861 -0.07854  0.48246    0.45468 -0.57009    0.11440 -0.34799  0.00332   \n",
      "1862  1.09449 -0.48246   -2.43591 -0.57009   -0.31685  0.73545 -0.43999   \n",
      "1863 -0.95197  0.48246   -0.61113 -0.57009   -0.31685  0.62967  0.63779   \n",
      "1864 -0.07854 -0.48246   -0.61113 -0.57009   -0.31685 -2.05048  0.00332   \n",
      "1865 -0.95197  0.48246   -0.05921 -0.57009   -0.31685  0.04257  0.00332   \n",
      "1866 -0.95197  0.48246    0.45468 -0.57009   -0.31685  0.13606 -0.80615   \n",
      "1867 -0.95197  0.48246   -0.61113 -0.57009   -0.31685  1.13281 -0.43999   \n",
      "1868 -0.95197 -0.48246   -0.61113 -0.28519   -0.31685 -0.58016 -0.15487   \n",
      "1869 -0.95197 -0.48246   -0.61113 -0.57009   -0.31685 -0.14882  1.11406   \n",
      "1870 -0.07854  0.48246    0.45468 -0.28519   -0.31685 -1.05308  0.96248   \n",
      "1871 -0.95197 -0.48246   -1.22751 -0.57009   -0.31685  1.02119 -0.43999   \n",
      "1872 -0.95197 -0.48246   -0.61113  0.24923   -0.31685 -0.79151  0.00332   \n",
      "1873 -0.95197 -0.48246   -1.43719 -0.57009   -0.31685  0.73545 -1.23177   \n",
      "1874  2.59171 -0.48246   -0.61113 -0.57009   -0.31685  2.12700 -0.15487   \n",
      "1875 -0.95197 -0.48246   -0.61113 -0.57009    0.12600 -0.05188 -1.76250   \n",
      "1876 -0.07854 -0.48246   -0.61113  0.24923    0.11440 -0.14882 -0.57545   \n",
      "1877 -0.95197 -0.48246   -1.43719 -0.57009   -0.31685  1.49158 -1.92173   \n",
      "1878 -0.95197 -0.48246    0.45468  0.24923   -0.31685 -0.05188 -1.76250   \n",
      "1879 -0.95197 -0.48246   -0.61113 -0.28519   -0.31685 -0.79151  0.32197   \n",
      "1880 -0.95197  0.48246   -0.61113 -0.57009   -0.31685 -1.19430  1.74091   \n",
      "1881 -0.95197 -0.48246   -0.61113 -0.57009   -0.31685 -0.24649  1.74091   \n",
      "1882 -0.07854  0.48246    0.45468 -0.57009   -0.31685  1.13281 -1.37639   \n",
      "1883 -0.95197  0.48246   -0.61113 -0.57009   -0.31685  0.91093 -1.92173   \n",
      "1884 -0.95197 -0.48246   -0.61113  0.21128   -0.31685 -0.46725  2.12700   \n",
      "\n",
      "       Oscore   Ascore   Cscore  Impulsive       SS  CLASS  \n",
      "0    -0.58331 -0.91699 -0.00665   -0.21712 -1.18084      0  \n",
      "1     1.43533  0.76096 -0.14277   -0.71126 -0.21575      1  \n",
      "2    -0.84732 -1.62090 -1.01450   -1.37983  0.40148      0  \n",
      "3    -0.01928  0.59042  0.58489   -1.37983 -1.18084      1  \n",
      "4    -0.45174 -0.30172  1.30612   -0.21712 -0.21575      0  \n",
      "5    -1.55521  2.03972  1.63088   -1.37983 -1.54858      0  \n",
      "6    -0.45174 -0.30172  0.93949   -0.21712  0.07987      0  \n",
      "7    -0.84732 -0.30172  1.63088    0.19268 -0.52593      0  \n",
      "8    -0.97631  0.76096  1.13407   -1.37983 -1.54858      0  \n",
      "9    -1.42424  0.59042  0.12331   -1.37983 -0.84637      0  \n",
      "10   -1.11902 -0.76096  1.81175    0.19268  0.07987      0  \n",
      "11    0.14143 -1.92595 -0.52745    0.52975  1.22470      1  \n",
      "12    0.44585 -1.62090 -0.78155    1.29221  0.07987      1  \n",
      "13   -0.01928  0.94156  3.46436   -0.71126 -0.84637      0  \n",
      "14    0.44585 -0.60633  1.63088    1.29221  0.76540      0  \n",
      "15   -1.55521 -1.07533  1.13407   -0.71126 -0.52593      0  \n",
      "16   -1.68062  0.28783  0.75830   -0.21712 -2.07848      0  \n",
      "17   -0.31776 -0.45321 -1.38502   -1.37983 -0.84637      0  \n",
      "18   -0.17779 -1.92595 -1.51840   -0.71126 -0.21575      0  \n",
      "19   -2.39883 -1.92595  0.75830   -1.37983 -2.07848      1  \n",
      "20    0.72330  1.61108 -1.13788    0.19268 -0.21575      0  \n",
      "21   -1.11902 -0.60633  1.81175   -0.21712 -1.18084      0  \n",
      "22   -0.84732  1.11406 -0.89891   -0.71126  0.07987      0  \n",
      "23   -1.27553  0.28783 -1.01450   -1.37983 -1.54858      1  \n",
      "24    1.24033  0.76096  1.46191   -0.21712 -0.52593      0  \n",
      "25   -1.27553  0.94156 -0.00665   -0.21712  0.40148      1  \n",
      "26   -3.27393 -0.76096  0.58489    0.19268 -1.54858      0  \n",
      "27   -0.01928 -0.01729 -2.18109    1.86203  0.40148      1  \n",
      "28   -0.71727  0.28783  1.30612    0.19268 -0.52593      0  \n",
      "29    0.88309  0.94156  1.81175   -0.21712 -0.52593      0  \n",
      "...       ...      ...      ...        ...      ...    ...  \n",
      "1855  0.58331 -0.01729  0.12331   -0.71126  0.40148      1  \n",
      "1856 -0.31776 -1.47955 -0.89891   -1.37983  0.76540      1  \n",
      "1857  1.65653 -0.15487 -1.78169    2.90161  0.40148      1  \n",
      "1858  0.44585 -0.15487 -0.14277    0.88113  1.22470      1  \n",
      "1859  0.72330  0.28783  0.12331   -0.21712  0.76540      1  \n",
      "1860  1.06238 -0.45321 -0.65253   -0.71126  0.07987      1  \n",
      "1861  1.24033 -0.15487  0.41594    0.88113  0.40148      1  \n",
      "1862  0.44585 -1.07533  0.25953    0.52975  0.40148      1  \n",
      "1863  2.90161 -1.07533  0.93949    0.88113  1.22470      1  \n",
      "1864  2.15324 -0.91699  0.41594   -0.21712  0.40148      1  \n",
      "1865  2.44904 -0.60633 -2.18109    0.88113  1.22470      1  \n",
      "1866  1.43533  0.28783  1.63088   -0.71126 -0.21575      1  \n",
      "1867  0.29338 -0.76096 -0.14277    1.86203 -0.21575      1  \n",
      "1868  0.29338 -1.62090 -1.38502    0.19268  0.40148      1  \n",
      "1869  1.43533 -0.30172 -0.00665    0.19268  0.76540      1  \n",
      "1870  1.88511  1.81866  1.30612   -0.71126  0.07987      1  \n",
      "1871  1.43533 -1.07533  0.12331   -0.71126  0.40148      1  \n",
      "1872  2.44904  0.76096 -1.51840    0.88113  1.92173      1  \n",
      "1873  0.58331 -0.60633 -0.40581    0.52975  0.40148      1  \n",
      "1874  2.44904  0.94156 -0.65253   -0.21712  0.07987      1  \n",
      "1875  0.58331 -0.76096 -0.14277    1.29221  1.22470      1  \n",
      "1876  1.43533 -0.91699 -0.78155    0.52975  0.40148      1  \n",
      "1877 -0.58331 -1.77200  0.58489   -0.21712  1.22470      1  \n",
      "1878  0.88309 -0.76096  2.33337   -0.71126 -0.21575      0  \n",
      "1879  0.29338 -0.30172 -0.27607    0.88113  0.76540      1  \n",
      "1880  1.88511  0.76096 -1.13788    0.88113  1.92173      1  \n",
      "1881  0.58331  0.76096 -1.51840    0.88113  0.76540      1  \n",
      "1882 -1.27553 -1.77200 -1.38502    0.52975 -0.52593      1  \n",
      "1883  0.29338 -1.62090 -2.57309    1.29221  1.22470      1  \n",
      "1884  1.65653  1.11406  0.41594    0.88113  1.22470      1  \n",
      "\n",
      "[1885 rows x 13 columns]\n"
     ]
    }
   ],
   "source": [
    "df_master = pd.read_csv('drug_users.csv')\n",
    "print(df_master)"
   ]
  },
  {
   "cell_type": "code",
   "execution_count": 11,
   "metadata": {},
   "outputs": [
    {
     "data": {
      "text/plain": [
       "[<matplotlib.lines.Line2D at 0x174b8acecf8>]"
      ]
     },
     "execution_count": 11,
     "metadata": {},
     "output_type": "execute_result"
    },
    {
     "data": {
      "image/png": "[encoded data removed]",
      "text/plain": [
       "<matplotlib.figure.Figure at 0x174b8a98b38>"
      ]
     },
     "metadata": {},
     "output_type": "display_data"
    }
   ],
   "source": [
    "sse = []\n",
    "for k in range(1, 11):\n",
    "    df = df_master.copy()\n",
    "    km = KMeans(n_clusters=k)\n",
    "    km.fit(df)\n",
    "    x = km.fit_predict(df)\n",
    "    sse.append(km.inertia_)\n",
    "\n",
    "x = [k for k in range(1,11)]\n",
    "\n",
    "plt.plot(x,sse)"
   ]
  },
  {
   "cell_type": "code",
   "execution_count": 13,
   "metadata": {},
   "outputs": [],
   "source": [
    "#Viz and PCA\n",
    "from sklearn.model_selection import train_test_split\n",
    "df_viz = df_master.copy()\n",
    "lbl_junk = [0 for i in range(0,len(df))]\n",
    "X_train, X_test, y_train, y_test = train_test_split(df_viz, lbl_junk, test_size=0.3, random_state=4)\n",
    "\n",
    "#Demo\n",
    "#print(X_train)\n",
    "#print(X_test)\n",
    "#print(y_train)\n",
    "#print(y_test)"
   ]
  },
  {
   "cell_type": "code",
   "execution_count": 14,
   "metadata": {},
   "outputs": [
    {
     "data": {
      "text/plain": [
       "KMeans(algorithm='auto', copy_x=True, init='k-means++', max_iter=300,\n",
       "    n_clusters=2, n_init=10, n_jobs=1, precompute_distances='auto',\n",
       "    random_state=None, tol=0.0001, verbose=0)"
      ]
     },
     "execution_count": 14,
     "metadata": {},
     "output_type": "execute_result"
    }
   ],
   "source": [
    "km = KMeans(n_clusters=2)\n",
    "km.fit(X_train)"
   ]
  },
  {
   "cell_type": "code",
   "execution_count": 15,
   "metadata": {},
   "outputs": [],
   "source": [
    "#Labels for X_train\n",
    "train_pred = km.fit_predict(X_train)\n",
    "\n",
    "#Labels for X_test\n",
    "test_pred = km.fit_predict(X_test)"
   ]
  },
  {
   "cell_type": "code",
   "execution_count": 16,
   "metadata": {},
   "outputs": [
    {
     "data": {
      "text/plain": [
       "[]"
      ]
     },
     "execution_count": 16,
     "metadata": {},
     "output_type": "execute_result"
    },
    {
     "data": {
      "image/png": "[encoded data removed]",
      "text/plain": [
       "<matplotlib.figure.Figure at 0x174b69e1da0>"
      ]
     },
     "metadata": {},
     "output_type": "display_data"
    }
   ],
   "source": [
    "from sklearn.decomposition import PCA\n",
    "\n",
    "#Viz for the training set\n",
    "#X_train = X_train.drop('CLASS', axis=1)\n",
    "#print(X_train)\n",
    "pca1 = PCA(n_components=2)\n",
    "pca1.fit(X_train)\n",
    "set_train = pca1.fit_transform(X_train)\n",
    "#print(set_train)\n",
    "\n",
    "x_ = set_train[:,0]\n",
    "y_ = set_train[:,1]\n",
    "\n",
    "\n",
    "x_0 = []\n",
    "y_0 = []\n",
    "x_1 = []\n",
    "y_1 = []\n",
    "\n",
    "for i in range(len(x_)):\n",
    "    if train_pred[i] == 0:\n",
    "        x_0.append(x_[i])\n",
    "        y_0.append(y_[i])\n",
    "    else:\n",
    "        x_1.append(x_[i])\n",
    "        y_1.append(y_[i])\n",
    "\n",
    "plt.scatter(x_0, y_0)\n",
    "plt.scatter(x_1, y_1)\n",
    "plt.plot()"
   ]
  },
  {
   "cell_type": "code",
   "execution_count": 18,
   "metadata": {},
   "outputs": [
    {
     "name": "stdout",
     "output_type": "stream",
     "text": [
      "F1-score for complete linkage + cosine\n",
      "0.20622568093385213\n"
     ]
    }
   ],
   "source": [
    "#mport AgglomerativeClustering\n",
    "from sklearn.cluster import AgglomerativeClustering\n",
    "# Import pairwise_distances for calculating pairwise distance matrix\n",
    "from sklearn.metrics.pairwise import pairwise_distances\n",
    "# Import f1_score\n",
    "from sklearn.metrics import f1_score\n",
    "\n",
    "\n",
    "## Calculate pairwise distance matrix for X_train\n",
    "pdm_train =pairwise_distances(X_train,Y=None,metric='euclidean')    #https://scikit-learn.org/stable/modules/generated/sklearn.metrics.pairwise_distances.html\n",
    "\n",
    "data = df.iloc[:, 1:13].values\n",
    "\n",
    "\n",
    "## Model and fit the training data to the AgglomerativeClustering model\n",
    "## complete linkage + cosine\n",
    "cluster = AgglomerativeClustering(n_clusters=2, affinity='cosine', linkage='complete')     #https://stackabuse.com/hierarchical-clustering-with-python-and-scikit-learn/\n",
    "cluster.fit_predict(data)\n",
    "X_train, X_test, y_train, y_test = train_test_split(df.values, df.CLASS, test_size=0.3)\n",
    "cluster.fit(X_train, y_train)        \n",
    "y_pred = cluster.fit_predict(X_test)\n",
    "print(\"F1-score for complete linkage + cosine\")\n",
    "a=f1_score(y_test, y_pred)\n",
    "print(a)\n"
   ]
  },
  {
   "cell_type": "code",
   "execution_count": null,
   "metadata": {},
   "outputs": [],
   "source": []
  }
 ],
 "metadata": {
  "kernelspec": {
   "display_name": "Python 3",
   "language": "python",
   "name": "python3"
  },
  "language_info": {
   "codemirror_mode": {
    "name": "ipython",
    "version": 3
   },
   "file_extension": ".py",
   "mimetype": "text/x-python",
   "name": "python",
   "nbconvert_exporter": "python",
   "pygments_lexer": "ipython3",
   "version": "3.6.4"
  }
 },
 "nbformat": 4,
 "nbformat_minor": 2
}
